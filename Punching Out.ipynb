{
 "cells": [
  {
   "cell_type": "code",
   "execution_count": null,
   "metadata": {},
   "outputs": [],
   "source": [
    "import pandas as pd\n",
    "import glob\n",
    "\n",
    "# Defining appropriate names for the column in need\n",
    "coluna = {\"Unnamed: 6\":\"Ponto\"}\n",
    "\n",
    "# Reading the files\n",
    "files_list = glob.glob(\"IForgotToPunchOut/*.xls\")\n",
    "df = pd.DataFrame()\n",
    "\n",
    "df = pd.concat(pd.read_excel(file, usecols=coluna.keys()) for file in files_list)\n",
    "\n",
    "# Making some basic treatment\n",
    "df = df.rename(columns=coluna)\n",
    "df = df.drop_duplicates(subset='Ponto') # Removing duplicates\n",
    "df['Ponto'] = pd.to_datetime(df['Ponto'], format='%Y-%m-%d %H:%M:%S', errors='coerce')\n",
    "df = df[df['Ponto'].notna()].reset_index(drop=True)\n",
    "df['Day'] = df['Ponto'].dt.strftime('%Y-%m-%d')\n",
    "df['Time'] = df['Ponto'].dt.strftime('%H:%M:%S')\n",
    "\n",
    "df"
   ]
  },
  {
   "cell_type": "code",
   "execution_count": null,
   "metadata": {},
   "outputs": [],
   "source": [
    "def calculate_work_time(group):\n",
    "    group = group.sort_values(by='Ponto')\n",
    "    if len(group) == 4:\n",
    "        work_time = (group.iloc[3]['Ponto'] - group.iloc[0]['Ponto']) - (group.iloc[2]['Ponto'] - group.iloc[1]['Ponto'])\n",
    "    elif len(group) == 2:\n",
    "        work_time = group.iloc[1]['Ponto'] - group.iloc[0]['Ponto']\n",
    "    elif len(group) == 3:\n",
    "        work_time = group.iloc[1]['Ponto'] - group.iloc[0]['Ponto']\n",
    "    else:\n",
    "        work_time = pd.Timedelta(0)\n",
    "    return pd.Series({'Time Worked': work_time})\n",
    "\n",
    "invalid_days = df.groupby('Day').filter(lambda x: len(x) not in [2, 4])\n",
    "valid_days = df.groupby('Day').filter(lambda x: len(x) in [2, 4])\n",
    "df_work_time = valid_days.groupby('Day').apply(calculate_work_time).reset_index()\n",
    "\n",
    "df_work_time['Time Worked'] = df_work_time['Time Worked'].astype(str).str.split().str[-1]\n",
    "\n",
    "df_work_time"
   ]
  },
  {
   "cell_type": "code",
   "execution_count": null,
   "metadata": {},
   "outputs": [],
   "source": [
    "dias_trabalhados = valid_days['Day'].nunique() #df['Day'].nunique()\n",
    "total_time = pd.to_timedelta(df_work_time['Time Worked']).sum()\n",
    "total_time/dias_trabalhados"
   ]
  },
  {
   "cell_type": "code",
   "execution_count": null,
   "metadata": {},
   "outputs": [],
   "source": [
    "# Exporting to CSV\n",
    "df_work_time.to_csv('Result1.csv', index=False)\n",
    "invalid_days.to_csv('Result1Invalidacao.csv', index=False)\n",
    "df.to_csv('Result1Validacao.csv', index=False)"
   ]
  }
 ],
 "metadata": {
  "kernelspec": {
   "display_name": "Python 3",
   "language": "python",
   "name": "python3"
  },
  "language_info": {
   "codemirror_mode": {
    "name": "ipython",
    "version": 3
   },
   "file_extension": ".py",
   "mimetype": "text/x-python",
   "name": "python",
   "nbconvert_exporter": "python",
   "pygments_lexer": "ipython3",
   "version": "3.11.4"
  }
 },
 "nbformat": 4,
 "nbformat_minor": 2
}
